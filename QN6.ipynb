{
  "nbformat": 4,
  "nbformat_minor": 0,
  "metadata": {
    "colab": {
      "provenance": []
    },
    "kernelspec": {
      "name": "python3",
      "display_name": "Python 3"
    },
    "language_info": {
      "name": "python"
    }
  },
  "cells": [
    {
      "cell_type": "markdown",
      "source": [
        "DES"
      ],
      "metadata": {
        "id": "LULBk1i5AJuv"
      }
    },
    {
      "cell_type": "code",
      "execution_count": null,
      "metadata": {
        "id": "xZtnWW27AJEq"
      },
      "outputs": [],
      "source": [
        "def chartobin(s):\n",
        "  s1 = ''\n",
        "  for i in range(len(s)):\n",
        "    s1 += str(bin(ord(s[i]))).replace(\"b\",\"\")\n",
        "  return s1"
      ]
    },
    {
      "cell_type": "code",
      "source": [
        "def expand(rpt):\n",
        "  \n",
        "  ans = []\n",
        "  bits = []\n",
        "\n",
        "  for i in range(8):\n",
        "    ans.append(rpt[:4])\n",
        "    bits.append([rpt[0],rpt[3]])\n",
        "    rpt = rpt[4:]\n",
        "  for i in range(1,7):\n",
        "    ans[i] = bits[i-1][1]+ans[i]+bits[i+1][0]\n",
        "  ans[0]=bits[-1][1]+ans[0]+bits[1][0]\n",
        "  ans[7]=bits[-2][1]+ans[7]+bits[0][0]\n",
        "  print(ans)\n",
        "  return ans"
      ],
      "metadata": {
        "id": "W5bP8UCAH6FH"
      },
      "execution_count": null,
      "outputs": []
    },
    {
      "cell_type": "code",
      "source": [
        "def xor (rpt,key,n):\n",
        "  print(len(rpt),len(key))\n",
        "  ans = ''\n",
        "  for i in range(48):\n",
        "    ans += str(int(rpt[i])^int(key[i]))\n",
        "  return ans"
      ],
      "metadata": {
        "id": "mUvFQaVmMTeq"
      },
      "execution_count": null,
      "outputs": []
    },
    {
      "cell_type": "code",
      "source": [
        "def compress(s):\n",
        "  ans = ''\n",
        "  for i in range(8):\n",
        "    row = int(s[0]+s[5],2)\n",
        "    col = int(s[1:5],2)\n",
        "    val str(bin(box[row][col])).replace('0b','')\n",
        "    while(len(val) < 4):\n",
        "      val = '0'+ val\n",
        "    ans += val\n",
        "    s = s[6:]\n",
        "  return ans"
      ],
      "metadata": {
        "id": "seAcTWibM0zp"
      },
      "execution_count": null,
      "outputs": []
    },
    {
      "cell_type": "code",
      "source": [
        "def encrypt():\n",
        "  s = 'sharvari'\n",
        "  s1 = chartobin(s)\n",
        "  slpt = s1[:32]\n",
        "  srpt = s1[:32]\n",
        "  k = 'sharvarichaw'\n",
        "  k1 = chartobin(k)\n",
        "  klpt = k1[:48]\n",
        "  krpt = k1[48:]\n",
        "\n",
        "  rpt = expand(srpt)\n",
        "  rpt = ''.join(rpt)\n",
        "  print(rpt)\n",
        "  rpt = xor(rpt,klpt,48)\n",
        "  rpt = compress(rpt,box[0])\n",
        "  rpt = xor(rpt,lpt,32)\n",
        "\n",
        "  srpt,slpt = slpt,rpt\n",
        "  rpt = expand(srpt)\n",
        "  rpt = ''.join(rpt)\n",
        "  print(rpt)\n",
        "  rpt = xor(rpt,krpt,48)\n",
        "  rpt = compress(rpt,box[1])\n",
        "  rpt = xor(rpt,lpt,32)\n",
        "\n",
        "  return slpt + rpt"
      ],
      "metadata": {
        "id": "ahbOR5utBPet"
      },
      "execution_count": null,
      "outputs": []
    },
    {
      "cell_type": "code",
      "source": [
        "encrypt()"
      ],
      "metadata": {
        "colab": {
          "base_uri": "https://localhost:8080/"
        },
        "id": "zs7OKG0VBkjO",
        "outputId": "34a3898f-3f5e-4e8f-aca1-ea1c80aeb713"
      },
      "execution_count": null,
      "outputs": [
        {
          "output_type": "stream",
          "name": "stdout",
          "text": [
            "['001110', '100110', '101101', '010000', '001100', '000010', '101110', '100100']\n",
            "001110100110101101010000001100000010101110100100\n",
            "48 48\n",
            "00 2\n",
            "1001 2\n",
            "0 9\n",
            "00 2\n",
            "1001 2\n",
            "0 9\n",
            "00 2\n",
            "1001 2\n",
            "0 9\n",
            "00 2\n",
            "1001 2\n",
            "0 9\n",
            "00 2\n",
            "1001 2\n",
            "0 9\n",
            "00 2\n",
            "1001 2\n",
            "0 9\n",
            "00 2\n",
            "1001 2\n",
            "0 9\n",
            "00 2\n",
            "1001 2\n",
            "0 9\n"
          ]
        }
      ]
    }
  ]
}