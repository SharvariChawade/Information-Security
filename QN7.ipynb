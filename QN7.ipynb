{
  "nbformat": 4,
  "nbformat_minor": 0,
  "metadata": {
    "colab": {
      "provenance": []
    },
    "kernelspec": {
      "name": "python3",
      "display_name": "Python 3"
    },
    "language_info": {
      "name": "python"
    }
  },
  "cells": [
    {
      "cell_type": "markdown",
      "source": [
        "RSA"
      ],
      "metadata": {
        "id": "q45YMTxHIaAi"
      }
    },
    {
      "cell_type": "code",
      "source": [
        "def is_prime(n):\n",
        "  for i in range(2,n-1):\n",
        "    if(n%i == 0):\n",
        "      return False"
      ],
      "metadata": {
        "id": "bog3UOmkcEW8"
      },
      "execution_count": null,
      "outputs": []
    },
    {
      "cell_type": "code",
      "source": [
        "def lowest_prime(p1):\n",
        "  flag = True\n",
        "  for i in range(p1, 2*p1):\n",
        "    flag = is_prime(i)\n",
        "    # print(i,flag)\n",
        "    if(flag == None):\n",
        "      if(p1 % i != 0):\n",
        "        return i\n",
        "    else:\n",
        "      continue"
      ],
      "metadata": {
        "id": "TYe-RXh_asyE"
      },
      "execution_count": null,
      "outputs": []
    },
    {
      "cell_type": "code",
      "source": [
        "from math import gcd"
      ],
      "metadata": {
        "id": "XGmofxuZfJcN"
      },
      "execution_count": null,
      "outputs": []
    },
    {
      "cell_type": "code",
      "execution_count": null,
      "metadata": {
        "colab": {
          "base_uri": "https://localhost:8080/"
        },
        "id": "rf4jgUjWIZL6",
        "outputId": "6d7ee673-d0ed-49d5-c8ef-d29ecb344451"
      },
      "outputs": [
        {
          "output_type": "stream",
          "name": "stdout",
          "text": [
            "e is  11\n",
            "d is  35\n",
            "4\n",
            "9\n"
          ]
        }
      ],
      "source": [
        "p1 =\"sha\"\n",
        "q1 = \"shara\"\n",
        "\n",
        "p = lowest_prime(len(p1))\n",
        "q = lowest_prime(len(q1))\n",
        "\n",
        "n = p*q\n",
        "phi = (p-1)*(q-1)\n",
        "\n",
        "i = 2\n",
        "while (True):\n",
        "  if(gcd(i,phi) == 1 and i!= p and i!= q):\n",
        "    e = i\n",
        "    break\n",
        "  i += 1\n",
        "print('e is ',e)\n",
        "i = 1\n",
        "while(True):\n",
        "  if((i*e)%phi==1 and i!= e):\n",
        "    d = i\n",
        "    break\n",
        "  i += 1\n",
        "print('d is ',d)\n",
        "pt = 9\n",
        "if(pt>phi):\n",
        "  pt = pt%phi\n",
        "\n",
        "ct = (pt**e)%n\n",
        "print(ct)\n",
        "dt = (ct**d)%n\n",
        "print(dt)"
      ]
    }
  ]
}